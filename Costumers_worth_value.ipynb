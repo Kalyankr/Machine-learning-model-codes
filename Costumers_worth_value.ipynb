{
  "nbformat": 4,
  "nbformat_minor": 0,
  "metadata": {
    "colab": {
      "name": "Costumers worth value.ipynb",
      "version": "0.3.2",
      "provenance": [],
      "include_colab_link": true
    },
    "kernelspec": {
      "name": "python3",
      "display_name": "Python 3"
    }
  },
  "cells": [
    {
      "cell_type": "markdown",
      "metadata": {
        "id": "view-in-github",
        "colab_type": "text"
      },
      "source": [
        "<a href=\"https://colab.research.google.com/github/Kalyankr/Numerical-ml-models/blob/master/Costumers_worth_value.ipynb\" target=\"_parent\"><img src=\"https://colab.research.google.com/assets/colab-badge.svg\" alt=\"Open In Colab\"/></a>"
      ]
    },
    {
      "metadata": {
        "id": "KAwJlwcjyhEO",
        "colab_type": "code",
        "colab": {}
      },
      "cell_type": "code",
      "source": [
        "import pandas as pd\n",
        "import numpy as np\n",
        "import warnings\n",
        "warnings.filterwarnings('ignore')"
      ],
      "execution_count": 0,
      "outputs": []
    },
    {
      "metadata": {
        "id": "kvFv1tdny4Mg",
        "colab_type": "code",
        "colab": {}
      },
      "cell_type": "code",
      "source": [
        "!wget  http://archive.ics.uci.edu/ml/machine-learning-databases/00352/Online%20Retail.xlsx"
      ],
      "execution_count": 0,
      "outputs": []
    },
    {
      "metadata": {
        "id": "oz37Oi34zPw7",
        "colab_type": "code",
        "colab": {}
      },
      "cell_type": "code",
      "source": [
        "data=pd.read_excel(\"Online Retail.xlsx\")\n"
      ],
      "execution_count": 0,
      "outputs": []
    },
    {
      "metadata": {
        "id": "GfixPF6N0WEp",
        "colab_type": "text"
      },
      "cell_type": "markdown",
      "source": [
        "As usual, we have some cleaning to do, then create a new dataframe that only contains CustomerID, InvoiceDate (remove the time) and add a new column — sales:"
      ]
    },
    {
      "metadata": {
        "id": "R1Ffh3o_0L77",
        "colab_type": "code",
        "colab": {}
      },
      "cell_type": "code",
      "source": [
        "import datetime as dt\n",
        "data[\"InvoiceDate\"]=pd.to_datetime(data[\"InvoiceDate\"]).dt.date\n",
        "data=data[pd.notnull(data[\"CustomerID\"])]\n",
        "data=data[(data[\"Quantity\"]>0)]\n",
        "data[\"Sales\"]=data[\"Quantity\"]*data[\"UnitPrice\"]\n",
        "cols_of_interest=[\"CustomerID\",\"InvoiceDate\",\"Sales\"]\n",
        "data=data[cols_of_interest]\n",
        "\n",
        "print(data.head())\n",
        "print(data[\"CustomerID\"].nunique())"
      ],
      "execution_count": 0,
      "outputs": []
    },
    {
      "metadata": {
        "id": "K8oaz8Vd6KGG",
        "colab_type": "text"
      },
      "cell_type": "markdown",
      "source": [
        "For the CLV models, the following nomenclature is used:\n",
        "\n",
        "    Frequency represents the number of repeat purchases the customer has made. This means that it’s one less than the total number of purchases.\n",
        "    T represents the age of the customer in whatever time units chosen (daily, in our dataset). This is equal to the duration between a customer’s first purchase and the end of the period under study.\n",
        "    Recency represents the age of the customer when they made their most recent purchases. This is equal to the duration between a customer’s first purchase and their latest purchase. (Thus if they have made only 1 purchase, the recency is 0.)\n",
        "\n",
        "The following analysis is conducted in Python using Lifetimes packagedeveloped by Cameron Davidson-Pilon, data scientist at Shopify."
      ]
    },
    {
      "metadata": {
        "id": "968vz8Ax2dAd",
        "colab_type": "code",
        "colab": {}
      },
      "cell_type": "code",
      "source": [
        "!pip install lifetimes\n",
        "from lifetimes.plotting import *\n",
        "from lifetimes.utils import *\n",
        "import lifetimes\n",
        "\n",
        "\n",
        "data_df = summary_data_from_transaction_data(data, 'CustomerID', 'InvoiceDate', monetary_value_col='Sales', observation_period_end='2011-12-9')"
      ],
      "execution_count": 0,
      "outputs": []
    },
    {
      "metadata": {
        "id": "Lzmt-YtF5rB7",
        "colab_type": "code",
        "colab": {}
      },
      "cell_type": "code",
      "source": [
        "data_df.head()"
      ],
      "execution_count": 0,
      "outputs": []
    },
    {
      "metadata": {
        "id": "1gZRYixC6f2a",
        "colab_type": "text"
      },
      "cell_type": "markdown",
      "source": [
        "CustomerID 12346 made 1 purchase only (no repeat), so his frequency and recency are 0, and his age is 325 days (e.g. the duration between his first purchase and the end of the period in the analysis)."
      ]
    },
    {
      "metadata": {
        "id": "OcElFCFg6GvT",
        "colab_type": "code",
        "colab": {}
      },
      "cell_type": "code",
      "source": [
        "import matplotlib.pyplot as plt\n",
        "fig=plt.figure(figsize=(8,6))\n",
        "data_df.frequency.plot(kind=\"hist\",bins=50)\n",
        "print(data_df.frequency.describe())\n",
        "print(sum(data_df.frequency==0)/float(len(data_df)))"
      ],
      "execution_count": 0,
      "outputs": []
    },
    {
      "metadata": {
        "id": "6T3Lmd8M7ka7",
        "colab_type": "text"
      },
      "cell_type": "markdown",
      "source": [
        "Among all customers in our data, more than 35% of them only made purchase once (no repeat)."
      ]
    },
    {
      "metadata": {
        "id": "w4tsdaRe62DL",
        "colab_type": "code",
        "colab": {}
      },
      "cell_type": "code",
      "source": [
        "from lifetimes import BetaGeoFitter\n",
        "\n",
        "bgf = BetaGeoFitter(penalizer_coef=0.0)\n",
        "bgf.fit(data_df['frequency'], data_df['recency'], data_df['T'])\n",
        "print(bgf)"
      ],
      "execution_count": 0,
      "outputs": []
    },
    {
      "metadata": {
        "id": "XnsT8fMp8D7b",
        "colab_type": "text"
      },
      "cell_type": "markdown",
      "source": [
        "Visualizing our frequency/recency matrix\n",
        "\n",
        "Consider: a customer has made purchase every day for four weeks straight, and then we haven’t heard from him in months. What are the chances he is still “alive”? Pretty small, right? On the other hand, a customer who historically made purchase once a quarter, and again last quarter, is likely still alive. We can visualize this relationship using the frequency/recency matrix, which computes the expected number of transactions an artificial customer is to make in the next time period, given his recency (age at last purchase) and frequency (the number of repeat transactions he has made)."
      ]
    },
    {
      "metadata": {
        "id": "91Zf6h7o7qrU",
        "colab_type": "code",
        "colab": {}
      },
      "cell_type": "code",
      "source": [
        "from lifetimes.plotting import plot_frequency_recency_matrix\n",
        "import matplotlib.pyplot as plt\n",
        "fig = plt.figure(figsize=(12,8))\n",
        "plot_frequency_recency_matrix(bgf)"
      ],
      "execution_count": 0,
      "outputs": []
    },
    {
      "metadata": {
        "id": "FD0SPmhy8rAF",
        "colab_type": "text"
      },
      "cell_type": "markdown",
      "source": [
        "If a customer has made 120 purchases, and his latest purchase was when he was approximately 350 days old (i.e. Recency: the duration between his first transaction and his latest transaction is 350 days), then he is our best customer (bottom-right).\n",
        "\n",
        "Customers who have purchased a lot and purchased recently will likely be the best customers in the future. We will never have enough of them.\n",
        "\n",
        "Customers who have purchased a lot but not recently (top-right corner), have probably gone.\n",
        "\n",
        "There are also another type of customers that around (40, 300) that represents the customer who buys infrequently, and we have not seen him recently, so he might buy again. However, we are not sure if he has gone or just between purchases.\n",
        "\n",
        "We can predict which customers are surely alive:"
      ]
    },
    {
      "metadata": {
        "id": "QpKKgAGj8OFZ",
        "colab_type": "code",
        "colab": {}
      },
      "cell_type": "code",
      "source": [
        "from lifetimes.plotting import plot_probability_alive_matrix\n",
        "fig = plt.figure(figsize=(12,8))\n",
        "plot_probability_alive_matrix(bgf)"
      ],
      "execution_count": 0,
      "outputs": []
    },
    {
      "metadata": {
        "id": "GWw5UgCw9TLW",
        "colab_type": "text"
      },
      "cell_type": "markdown",
      "source": [
        "Customers who have purchased recently are almost surely “alive”.\n",
        "\n",
        "Customers who have purchased a lot but not recently, are likely to have dropped out. And the more they bought in the past, the more likely they have dropped out. They are represented in the upper-right.\n",
        "\n",
        "We are ranking customers from “highest expected purchases in the next period” to lowest. Models expose a method that will predict a customer’s expected purchases in the next period using their history."
      ]
    },
    {
      "metadata": {
        "id": "zW6fCb6Z9NjY",
        "colab_type": "code",
        "colab": {}
      },
      "cell_type": "code",
      "source": [
        "t = 1\n",
        "data_df['predicted_purchases'] = bgf.conditional_expected_number_of_purchases_up_to_time(t, data_df['frequency'], data_df['recency'], data_df['T'])\n",
        "data_df.sort_values(by='predicted_purchases').tail(5)"
      ],
      "execution_count": 0,
      "outputs": []
    },
    {
      "metadata": {
        "id": "Z-mlh-hD9mcl",
        "colab_type": "text"
      },
      "cell_type": "markdown",
      "source": [
        "Listed above are our top 5 customers that the model expects them to make purchases in the next day. The predicted_purchases column represents their expected number of purchases while the other three columns represent their current RF metrics. The BG/NBD model believes these individuals will be making more purchases within the near future as they are our current best customers."
      ]
    },
    {
      "metadata": {
        "id": "HcgbCbU69ico",
        "colab_type": "code",
        "colab": {}
      },
      "cell_type": "code",
      "source": [
        "from lifetimes.plotting import plot_period_transactions\n",
        "plot_period_transactions(bgf)"
      ],
      "execution_count": 0,
      "outputs": []
    },
    {
      "metadata": {
        "id": "_yJvxeJC9rQq",
        "colab_type": "text"
      },
      "cell_type": "markdown",
      "source": [
        "Not bad, out model does not suck. So, we can continue on with our analysis.\n",
        "\n",
        "We now partition the dataset into a calibration period dataset and a holdout dataset. This is important as we want to test how our model performs on data not yet seen (just like cross-validation in machine learning practice)."
      ]
    },
    {
      "metadata": {
        "id": "i4f6BR--9ovG",
        "colab_type": "code",
        "colab": {}
      },
      "cell_type": "code",
      "source": [
        "from lifetimes.utils import calibration_and_holdout_data\n",
        "\n",
        "summary_cal_holdout = calibration_and_holdout_data(data, 'CustomerID', 'InvoiceDate',\n",
        "                                        calibration_period_end='2011-06-08',\n",
        "                                        observation_period_end='2011-12-9' )   \n",
        "print(summary_cal_holdout.head())"
      ],
      "execution_count": 0,
      "outputs": []
    },
    {
      "metadata": {
        "id": "HWjnQueJ9wQ4",
        "colab_type": "code",
        "colab": {}
      },
      "cell_type": "code",
      "source": [
        "from lifetimes.plotting import plot_calibration_purchases_vs_holdout_purchases\n",
        "\n",
        "bgf.fit(summary_cal_holdout['frequency_cal'], summary_cal_holdout['recency_cal'], summary_cal_holdout['T_cal'])\n",
        "plot_calibration_purchases_vs_holdout_purchases(bgf, summary_cal_holdout)"
      ],
      "execution_count": 0,
      "outputs": []
    },
    {
      "metadata": {
        "id": "cCeJlpVz-Cnh",
        "colab_type": "text"
      },
      "cell_type": "markdown",
      "source": [
        "Based on customer history, we can now predict what an individual’s future purchases might look like"
      ]
    },
    {
      "metadata": {
        "id": "kwrKxXLg9_pV",
        "colab_type": "code",
        "colab": {}
      },
      "cell_type": "code",
      "source": [
        "t = 10\n",
        "individual = data.loc[12347]\n",
        "bgf.predict(t, individual['frequency'], individual['recency'], individual['T'])"
      ],
      "execution_count": 0,
      "outputs": []
    },
    {
      "metadata": {
        "id": "kzoL8vaD-Ffo",
        "colab_type": "code",
        "colab": {}
      },
      "cell_type": "code",
      "source": [
        "from lifetimes.plotting import plot_history_alive\n",
        "import matplotlib.pyplot as plt\n",
        "\n",
        "fig = plt.figure(figsize=(12,8))\n",
        "id = 14606\n",
        "days_since_birth = 365\n",
        "sp_trans = data.loc[data['CustomerID'] == id]\n",
        "plot_history_alive(bgf, days_since_birth, sp_trans, 'InvoiceDate')"
      ],
      "execution_count": 0,
      "outputs": []
    },
    {
      "metadata": {
        "id": "FibAqGwA-YcM",
        "colab_type": "code",
        "colab": {}
      },
      "cell_type": "code",
      "source": [
        "fig = plt.figure(figsize=(12,8))\n",
        "id = 14729\n",
        "days_since_birth = 365\n",
        "sp_trans = data.loc[data['CustomerID'] == id]\n",
        "plot_history_alive(bgf, days_since_birth, sp_trans, 'InvoiceDate')"
      ],
      "execution_count": 0,
      "outputs": []
    },
    {
      "metadata": {
        "id": "gkfFbqL0-xlO",
        "colab_type": "code",
        "colab": {}
      },
      "cell_type": "code",
      "source": [
        "returning_customers_summary = data[data['frequency']>0]\n",
        "\n",
        "print(returning_customers_summary.head())\n",
        "print(len(returning_customers_summary))"
      ],
      "execution_count": 0,
      "outputs": []
    },
    {
      "metadata": {
        "id": "gl8O_nrh_AiZ",
        "colab_type": "code",
        "colab": {}
      },
      "cell_type": "code",
      "source": [
        "from lifetimes import GammaGammaFitter\n",
        "\n",
        "ggf = GammaGammaFitter(penalizer_coef = 0)\n",
        "ggf.fit(returning_customers_summary['frequency'],\n",
        "        returning_customers_summary['monetary_value'])\n",
        "print(ggf)"
      ],
      "execution_count": 0,
      "outputs": []
    },
    {
      "metadata": {
        "id": "7Yoe3lDu_DN_",
        "colab_type": "code",
        "colab": {}
      },
      "cell_type": "code",
      "source": [
        "print(ggf.conditional_expected_average_profit(\n",
        "        data['frequency'],\n",
        "        data['monetary_value']\n",
        "    ).head(10))"
      ],
      "execution_count": 0,
      "outputs": []
    }
  ]
}